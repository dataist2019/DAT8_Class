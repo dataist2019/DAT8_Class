{
 "cells": [
  {
   "cell_type": "markdown",
   "metadata": {},
   "source": [
    "#Finding the formula for Popularity\n",
    "##Popularity prediction using Mashable articles from 2013-2014\n",
    "####Jorge Miranda\n",
    "####General Assembly – Data Science DAT8 Oct 2015\n",
    "\n",
    "\n",
    "###Introduction\n",
    "\n",
    "The way we use the internet has transformed the landscape of online content consumption. The ease of producing media content online makes it more challenging to catch the audience’s attention, especially for news media outlets. In this scenario, there is an increased interest in identifying what kind of articles are going to be more popular.  For Mashable, a leading global media company, this is more than an interest, it is its business model. The company was created in 2005 and by 2009 it was one of the 25 best blogs according to Time. In early 2012 Mashable had 20 million followers and it was valued at $200 million (The Guardian, 2012). According to Forbes, in 2015 Mashable tops list of most influential media outlets.\n",
    "\n",
    "There are several ways to measure popularity. Pageviews, user comments and number of shares in social media are the most common ways to measure popularity. In this paper, we address the problem of predicting the popularity of news articles based on shares in social media.\n",
    "\n"
   ]
  },
  {
   "cell_type": "markdown",
   "metadata": {},
   "source": [
    "###Problem statement\n",
    "\n",
    "Can the number of shares of a Mashable article be predicted based on number of words in title, number of words in content, number of images in article, number of videos, average keywords, and day of the week?\n",
    "Hypothesis:\n",
    "1.\tArticles with captivating content (images and videos) attracts more attention and are share more often."
   ]
  },
  {
   "cell_type": "markdown",
   "metadata": {},
   "source": [
    "###Data Import\n",
    "\n",
    "Data was obtained from the Center for Machine Learning and Intelligent Systems of University of California, Irvine. The data contains 39644 observations and 60 featured variables and 1 response variable. The observations are articles from Mashable from 2011 and 2012.\n"
   ]
  },
  {
   "cell_type": "code",
   "execution_count": null,
   "metadata": {
    "collapsed": false
   },
   "outputs": [],
   "source": [
    "import pandas as pd\n",
    "import numpy as np\n",
    "url = 'https://raw.githubusercontent.com/jorge3ie/DAT8_Class/master/OnlineNewsPopularity.csv'\n",
    "mashable = pd.read_csv(url)\n",
    "mashable.shape\n",
    "mashable.dtypes"
   ]
  },
  {
   "cell_type": "markdown",
   "metadata": {},
   "source": [
    "###Data Pre-Processing\n",
    "\n",
    "The variable names have a space in front of the variables. 12 variables were renamed.\n",
    "The response variable was also renamed to \"total\"."
   ]
  },
  {
   "cell_type": "code",
   "execution_count": null,
   "metadata": {
    "collapsed": true
   },
   "outputs": [],
   "source": [
    "mashable.rename(columns={' n_tokens_title':'title'}, inplace=True)\n",
    "mashable.rename(columns={' n_tokens_content':'content'}, inplace=True)\n",
    "mashable.rename(columns={' num_imgs':'num_imgs'}, inplace=True)\n",
    "mashable.rename(columns={' num_videos':'num_videos'}, inplace=True)\n",
    "mashable.rename(columns={' kw_avg_avg':'kw_avg_avg'}, inplace=True)\n",
    "mashable.rename(columns={' weekday_is_monday':'monday'}, inplace=True)\n",
    "mashable.rename(columns={' weekday_is_tuesday':'tuesday'}, inplace=True)\n",
    "mashable.rename(columns={' weekday_is_wednesday':'wednesday'}, inplace=True)\n",
    "mashable.rename(columns={' weekday_is_thursday':'thursday'}, inplace=True)\n",
    "mashable.rename(columns={' weekday_is_friday':'friday'}, inplace=True)\n",
    "mashable.rename(columns={' weekday_is_saturday':'saturday'}, inplace=True)\n",
    "mashable.rename(columns={' weekday_is_sunday':'sunday'}, inplace=True)\n",
    "mashable.rename(columns={' num_keywords':'num_keywords'}, inplace=True)"
   ]
  },
  {
   "cell_type": "code",
   "execution_count": null,
   "metadata": {
    "collapsed": false
   },
   "outputs": [],
   "source": [
    "mashable.columns"
   ]
  },
  {
   "cell_type": "markdown",
   "metadata": {},
   "source": [
    "###Variable description (Dictionary)\n",
    "* n_tokens_title: Number of words in the title \n",
    "* n_tokens_content: Number of words in the content \n",
    "* num_imgs: Number of images \n",
    "* num_videos: Number of videos \n",
    "* kw_avg_avg: Avg. keyword (avg. shares)\n",
    "* weekday_is_monday: The article published on a Monday\n",
    "* weekday_is_tuesday: The article published on a Tuesday \n",
    "* weekday_is_wednesday: The article published on a Wednesday \n",
    "* weekday_is_thursday: The article published on a Thursday\n",
    "* weekday_is_friday: The article published on a Friday\n",
    "* weekday_is_saturday: The article published on a Saturday \n",
    "* weekday_is_sunday: The article published on a Sunday \n"
   ]
  },
  {
   "cell_type": "code",
   "execution_count": 48,
   "metadata": {
    "collapsed": false
   },
   "outputs": [],
   "source": [
    "feature_cols = ['n_tokens_title', 'n_tokens_content', 'num_keywords', 'num_imgs', 'num_videos', 'kw_avg_avg', 'weekday_is_monday', 'weekday_is_tuesday', 'weekday_is_wednesday', 'weekday_is_thursday', 'weekday_is_friday', 'weekday_is_saturday']\n",
    "\n",
    "X = mashable[feature_cols]\n",
    "y = mashable.total"
   ]
  },
  {
   "cell_type": "code",
   "execution_count": 50,
   "metadata": {
    "collapsed": false
   },
   "outputs": [
    {
     "data": {
      "text/plain": [
       "n_tokens_title          float64\n",
       "n_tokens_content        float64\n",
       "num_imgs                float64\n",
       "num_videos              float64\n",
       "kw_avg_avg              float64\n",
       "weekday_is_monday       float64\n",
       "weekday_is_tuesday      float64\n",
       "weekday_is_wednesday    float64\n",
       "weekday_is_thursday     float64\n",
       "weekday_is_friday       float64\n",
       "weekday_is_saturday     float64\n",
       "dtype: object"
      ]
     },
     "execution_count": 50,
     "metadata": {},
     "output_type": "execute_result"
    }
   ],
   "source": [
    "X.dtypes"
   ]
  },
  {
   "cell_type": "markdown",
   "metadata": {},
   "source": [
    "###Feature Selection\n",
    "\n",
    "Using matplotlib and seaborn, it is possible to get a scatter plot and a heat map (response vs. each feature) to determine what features appear to be correlated strongly with the response:"
   ]
  },
  {
   "cell_type": "code",
   "execution_count": 57,
   "metadata": {
    "collapsed": false
   },
   "outputs": [],
   "source": [
    "%matplotlib inline\n",
    "import matplotlib.pyplot as plt\n",
    "import seaborn as sns"
   ]
  },
  {
   "cell_type": "code",
   "execution_count": 58,
   "metadata": {
    "collapsed": false
   },
   "outputs": [
    {
     "data": {
      "text/plain": [
       "<seaborn.axisgrid.PairGrid at 0x11c828910>"
      ]
     },
     "execution_count": 58,
     "metadata": {},
     "output_type": "execute_result"
    },
    {
     "data": {
      "image/png": "[encoded data removed]",
      "text/plain": [
       "<matplotlib.figure.Figure at 0x11bad1fd0>"
      ]
     },
     "metadata": {},
     "output_type": "display_data"
    }
   ],
   "source": [
    "sns.pairplot(mashable, x_vars=feature_cols, y_vars='total', kind='reg')"
   ]
  },
  {
   "cell_type": "code",
   "execution_count": 69,
   "metadata": {
    "collapsed": false
   },
   "outputs": [],
   "source": [
    "test = ['n_tokens_title', 'n_tokens_content', 'num_imgs', 'num_videos', 'kw_avg_avg', 'weekday_is_monday', 'weekday_is_tuesday', 'weekday_is_wednesday', 'weekday_is_thursday', 'weekday_is_friday', 'weekday_is_saturday', 'total']\n"
   ]
  },
  {
   "cell_type": "code",
   "execution_count": 72,
   "metadata": {
    "collapsed": false
   },
   "outputs": [],
   "source": [
    "Xy=mashable[test]\n"
   ]
  },
  {
   "cell_type": "code",
   "execution_count": 73,
   "metadata": {
    "collapsed": false
   },
   "outputs": [
    {
     "data": {
      "text/html": [
       "<div>\n",
       "<table border=\"1\" class=\"dataframe\">\n",
       "  <thead>\n",
       "    <tr style=\"text-align: right;\">\n",
       "      <th></th>\n",
       "      <th>n_tokens_title</th>\n",
       "      <th>n_tokens_content</th>\n",
       "      <th>num_imgs</th>\n",
       "      <th>num_videos</th>\n",
       "      <th>kw_avg_avg</th>\n",
       "      <th>weekday_is_monday</th>\n",
       "      <th>weekday_is_tuesday</th>\n",
       "      <th>weekday_is_wednesday</th>\n",
       "      <th>weekday_is_thursday</th>\n",
       "      <th>weekday_is_friday</th>\n",
       "      <th>weekday_is_saturday</th>\n",
       "      <th>total</th>\n",
       "    </tr>\n",
       "  </thead>\n",
       "  <tbody>\n",
       "    <tr>\n",
       "      <th>n_tokens_title</th>\n",
       "      <td>1.000000</td>\n",
       "      <td>0.018160</td>\n",
       "      <td>-0.008858</td>\n",
       "      <td>0.051460</td>\n",
       "      <td>0.004296</td>\n",
       "      <td>0.004274</td>\n",
       "      <td>0.009322</td>\n",
       "      <td>0.008935</td>\n",
       "      <td>-0.015472</td>\n",
       "      <td>-0.002015</td>\n",
       "      <td>-0.015013</td>\n",
       "      <td>0.008783</td>\n",
       "    </tr>\n",
       "    <tr>\n",
       "      <th>n_tokens_content</th>\n",
       "      <td>0.018160</td>\n",
       "      <td>1.000000</td>\n",
       "      <td>0.342600</td>\n",
       "      <td>0.103699</td>\n",
       "      <td>-0.079624</td>\n",
       "      <td>-0.002484</td>\n",
       "      <td>-0.004027</td>\n",
       "      <td>-0.016891</td>\n",
       "      <td>-0.007395</td>\n",
       "      <td>-0.015949</td>\n",
       "      <td>0.034538</td>\n",
       "      <td>0.002459</td>\n",
       "    </tr>\n",
       "    <tr>\n",
       "      <th>num_imgs</th>\n",
       "      <td>-0.008858</td>\n",
       "      <td>0.342600</td>\n",
       "      <td>1.000000</td>\n",
       "      <td>-0.067336</td>\n",
       "      <td>0.145236</td>\n",
       "      <td>-0.005249</td>\n",
       "      <td>-0.003767</td>\n",
       "      <td>-0.024674</td>\n",
       "      <td>-0.005824</td>\n",
       "      <td>-0.007537</td>\n",
       "      <td>0.028970</td>\n",
       "      <td>0.039388</td>\n",
       "    </tr>\n",
       "    <tr>\n",
       "      <th>num_videos</th>\n",
       "      <td>0.051460</td>\n",
       "      <td>0.103699</td>\n",
       "      <td>-0.067336</td>\n",
       "      <td>1.000000</td>\n",
       "      <td>0.106815</td>\n",
       "      <td>0.009453</td>\n",
       "      <td>0.006740</td>\n",
       "      <td>-0.001397</td>\n",
       "      <td>-0.003663</td>\n",
       "      <td>0.003473</td>\n",
       "      <td>-0.007135</td>\n",
       "      <td>0.023936</td>\n",
       "    </tr>\n",
       "    <tr>\n",
       "      <th>kw_avg_avg</th>\n",
       "      <td>0.004296</td>\n",
       "      <td>-0.079624</td>\n",
       "      <td>0.145236</td>\n",
       "      <td>0.106815</td>\n",
       "      <td>1.000000</td>\n",
       "      <td>-0.020546</td>\n",
       "      <td>-0.003915</td>\n",
       "      <td>-0.014054</td>\n",
       "      <td>-0.004056</td>\n",
       "      <td>0.003330</td>\n",
       "      <td>0.031116</td>\n",
       "      <td>0.110413</td>\n",
       "    </tr>\n",
       "    <tr>\n",
       "      <th>weekday_is_monday</th>\n",
       "      <td>0.004274</td>\n",
       "      <td>-0.002484</td>\n",
       "      <td>-0.005249</td>\n",
       "      <td>0.009453</td>\n",
       "      <td>-0.020546</td>\n",
       "      <td>1.000000</td>\n",
       "      <td>-0.215107</td>\n",
       "      <td>-0.215912</td>\n",
       "      <td>-0.212904</td>\n",
       "      <td>-0.184173</td>\n",
       "      <td>-0.115413</td>\n",
       "      <td>0.009726</td>\n",
       "    </tr>\n",
       "    <tr>\n",
       "      <th>weekday_is_tuesday</th>\n",
       "      <td>0.009322</td>\n",
       "      <td>-0.004027</td>\n",
       "      <td>-0.003767</td>\n",
       "      <td>0.006740</td>\n",
       "      <td>-0.003915</td>\n",
       "      <td>-0.215107</td>\n",
       "      <td>1.000000</td>\n",
       "      <td>-0.229976</td>\n",
       "      <td>-0.226772</td>\n",
       "      <td>-0.196169</td>\n",
       "      <td>-0.122931</td>\n",
       "      <td>-0.007941</td>\n",
       "    </tr>\n",
       "    <tr>\n",
       "      <th>weekday_is_wednesday</th>\n",
       "      <td>0.008935</td>\n",
       "      <td>-0.016891</td>\n",
       "      <td>-0.024674</td>\n",
       "      <td>-0.001397</td>\n",
       "      <td>-0.014054</td>\n",
       "      <td>-0.215912</td>\n",
       "      <td>-0.229976</td>\n",
       "      <td>1.000000</td>\n",
       "      <td>-0.227620</td>\n",
       "      <td>-0.196903</td>\n",
       "      <td>-0.123390</td>\n",
       "      <td>-0.003801</td>\n",
       "    </tr>\n",
       "    <tr>\n",
       "      <th>weekday_is_thursday</th>\n",
       "      <td>-0.015472</td>\n",
       "      <td>-0.007395</td>\n",
       "      <td>-0.005824</td>\n",
       "      <td>-0.003663</td>\n",
       "      <td>-0.004056</td>\n",
       "      <td>-0.212904</td>\n",
       "      <td>-0.226772</td>\n",
       "      <td>-0.227620</td>\n",
       "      <td>1.000000</td>\n",
       "      <td>-0.194160</td>\n",
       "      <td>-0.121672</td>\n",
       "      <td>-0.008833</td>\n",
       "    </tr>\n",
       "    <tr>\n",
       "      <th>weekday_is_friday</th>\n",
       "      <td>-0.002015</td>\n",
       "      <td>-0.015949</td>\n",
       "      <td>-0.007537</td>\n",
       "      <td>0.003473</td>\n",
       "      <td>0.003330</td>\n",
       "      <td>-0.184173</td>\n",
       "      <td>-0.196169</td>\n",
       "      <td>-0.196903</td>\n",
       "      <td>-0.194160</td>\n",
       "      <td>1.000000</td>\n",
       "      <td>-0.105252</td>\n",
       "      <td>-0.003884</td>\n",
       "    </tr>\n",
       "    <tr>\n",
       "      <th>weekday_is_saturday</th>\n",
       "      <td>-0.015013</td>\n",
       "      <td>0.034538</td>\n",
       "      <td>0.028970</td>\n",
       "      <td>-0.007135</td>\n",
       "      <td>0.031116</td>\n",
       "      <td>-0.115413</td>\n",
       "      <td>-0.122931</td>\n",
       "      <td>-0.123390</td>\n",
       "      <td>-0.121672</td>\n",
       "      <td>-0.105252</td>\n",
       "      <td>1.000000</td>\n",
       "      <td>0.015082</td>\n",
       "    </tr>\n",
       "    <tr>\n",
       "      <th>total</th>\n",
       "      <td>0.008783</td>\n",
       "      <td>0.002459</td>\n",
       "      <td>0.039388</td>\n",
       "      <td>0.023936</td>\n",
       "      <td>0.110413</td>\n",
       "      <td>0.009726</td>\n",
       "      <td>-0.007941</td>\n",
       "      <td>-0.003801</td>\n",
       "      <td>-0.008833</td>\n",
       "      <td>-0.003884</td>\n",
       "      <td>0.015082</td>\n",
       "      <td>1.000000</td>\n",
       "    </tr>\n",
       "  </tbody>\n",
       "</table>\n",
       "</div>"
      ],
      "text/plain": [
       "                      n_tokens_title  n_tokens_content  num_imgs  num_videos  \\\n",
       "n_tokens_title              1.000000          0.018160 -0.008858    0.051460   \n",
       "n_tokens_content            0.018160          1.000000  0.342600    0.103699   \n",
       "num_imgs                   -0.008858          0.342600  1.000000   -0.067336   \n",
       "num_videos                  0.051460          0.103699 -0.067336    1.000000   \n",
       "kw_avg_avg                  0.004296         -0.079624  0.145236    0.106815   \n",
       "weekday_is_monday           0.004274         -0.002484 -0.005249    0.009453   \n",
       "weekday_is_tuesday          0.009322         -0.004027 -0.003767    0.006740   \n",
       "weekday_is_wednesday        0.008935         -0.016891 -0.024674   -0.001397   \n",
       "weekday_is_thursday        -0.015472         -0.007395 -0.005824   -0.003663   \n",
       "weekday_is_friday          -0.002015         -0.015949 -0.007537    0.003473   \n",
       "weekday_is_saturday        -0.015013          0.034538  0.028970   -0.007135   \n",
       "total                       0.008783          0.002459  0.039388    0.023936   \n",
       "\n",
       "                      kw_avg_avg  weekday_is_monday  weekday_is_tuesday  \\\n",
       "n_tokens_title          0.004296           0.004274            0.009322   \n",
       "n_tokens_content       -0.079624          -0.002484           -0.004027   \n",
       "num_imgs                0.145236          -0.005249           -0.003767   \n",
       "num_videos              0.106815           0.009453            0.006740   \n",
       "kw_avg_avg              1.000000          -0.020546           -0.003915   \n",
       "weekday_is_monday      -0.020546           1.000000           -0.215107   \n",
       "weekday_is_tuesday     -0.003915          -0.215107            1.000000   \n",
       "weekday_is_wednesday   -0.014054          -0.215912           -0.229976   \n",
       "weekday_is_thursday    -0.004056          -0.212904           -0.226772   \n",
       "weekday_is_friday       0.003330          -0.184173           -0.196169   \n",
       "weekday_is_saturday     0.031116          -0.115413           -0.122931   \n",
       "total                   0.110413           0.009726           -0.007941   \n",
       "\n",
       "                      weekday_is_wednesday  weekday_is_thursday  \\\n",
       "n_tokens_title                    0.008935            -0.015472   \n",
       "n_tokens_content                 -0.016891            -0.007395   \n",
       "num_imgs                         -0.024674            -0.005824   \n",
       "num_videos                       -0.001397            -0.003663   \n",
       "kw_avg_avg                       -0.014054            -0.004056   \n",
       "weekday_is_monday                -0.215912            -0.212904   \n",
       "weekday_is_tuesday               -0.229976            -0.226772   \n",
       "weekday_is_wednesday              1.000000            -0.227620   \n",
       "weekday_is_thursday              -0.227620             1.000000   \n",
       "weekday_is_friday                -0.196903            -0.194160   \n",
       "weekday_is_saturday              -0.123390            -0.121672   \n",
       "total                            -0.003801            -0.008833   \n",
       "\n",
       "                      weekday_is_friday  weekday_is_saturday     total  \n",
       "n_tokens_title                -0.002015            -0.015013  0.008783  \n",
       "n_tokens_content              -0.015949             0.034538  0.002459  \n",
       "num_imgs                      -0.007537             0.028970  0.039388  \n",
       "num_videos                     0.003473            -0.007135  0.023936  \n",
       "kw_avg_avg                     0.003330             0.031116  0.110413  \n",
       "weekday_is_monday             -0.184173            -0.115413  0.009726  \n",
       "weekday_is_tuesday            -0.196169            -0.122931 -0.007941  \n",
       "weekday_is_wednesday          -0.196903            -0.123390 -0.003801  \n",
       "weekday_is_thursday           -0.194160            -0.121672 -0.008833  \n",
       "weekday_is_friday              1.000000            -0.105252 -0.003884  \n",
       "weekday_is_saturday           -0.105252             1.000000  0.015082  \n",
       "total                         -0.003884             0.015082  1.000000  "
      ]
     },
     "execution_count": 73,
     "metadata": {},
     "output_type": "execute_result"
    }
   ],
   "source": [
    "Xy.corr()"
   ]
  },
  {
   "cell_type": "code",
   "execution_count": 74,
   "metadata": {
    "collapsed": false
   },
   "outputs": [
    {
     "data": {
      "text/plain": [
       "<matplotlib.axes._subplots.AxesSubplot at 0x116bd9cd0>"
      ]
     },
     "execution_count": 74,
     "metadata": {},
     "output_type": "execute_result"
    },
    {
     "data": {
      "image/png": "[encoded data removed]",
      "text/plain": [
       "<matplotlib.figure.Figure at 0x1183d5850>"
      ]
     },
     "metadata": {},
     "output_type": "display_data"
    }
   ],
   "source": [
    "sns.heatmap(Xy.corr())"
   ]
  },
  {
   "cell_type": "markdown",
   "metadata": {},
   "source": [
    "###Cross Validation / Logistic Regression"
   ]
  },
  {
   "cell_type": "code",
   "execution_count": null,
   "metadata": {
    "collapsed": true
   },
   "outputs": [],
   "source": [
    "from sklearn.cross_validation import train_test_split\n",
    "X_train, X_test, y_train, y_test = train_test_split(X, y, random_state=1)"
   ]
  },
  {
   "cell_type": "code",
   "execution_count": null,
   "metadata": {
    "collapsed": true
   },
   "outputs": [],
   "source": [
    "logreg = LogisticRegression(C=1e9)\n",
    "logreg.fit(X_train, y_train)\n",
    "zip(feature_cols, logreg.coef_[0])\n"
   ]
  },
  {
   "cell_type": "code",
   "execution_count": null,
   "metadata": {
    "collapsed": true
   },
   "outputs": [],
   "source": [
    "y_pred_class = logreg.predict(X_test)\n"
   ]
  },
  {
   "cell_type": "code",
   "execution_count": null,
   "metadata": {
    "collapsed": true
   },
   "outputs": [],
   "source": [
    "from sklearn import metrics\n",
    "print metrics.accuracy_score(y_test, y_pred_class)\n",
    "\n",
    "0.943250912039"
   ]
  },
  {
   "cell_type": "code",
   "execution_count": null,
   "metadata": {
    "collapsed": true
   },
   "outputs": [],
   "source": [
    " y_test.value_counts().head(1) / len(y_test)"
   ]
  },
  {
   "cell_type": "code",
   "execution_count": null,
   "metadata": {
    "collapsed": true
   },
   "outputs": [],
   "source": [
    "print metrics.confusion_matrix(y_test, y_pred_class)"
   ]
  },
  {
   "cell_type": "code",
   "execution_count": null,
   "metadata": {
    "collapsed": true
   },
   "outputs": [],
   "source": [
    " from sklearn.linear_model import LogisticRegression\n",
    "from sklearn.cross_validation import cross_val_score\n",
    "logreg = LogisticRegression(C=1e9)\n",
    "cross_val_score(logreg, X, y, cv=10, scoring='roc_auc').mean()"
   ]
  },
  {
   "cell_type": "markdown",
   "metadata": {
    "collapsed": true
   },
   "source": [
    "##Next Steps\n",
    "I would like to get the right values for shares by scraping Mashable. Once I get those values I'd like to try other classification models such as kNN and random forest."
   ]
  }
 ],
 "metadata": {
  "kernelspec": {
   "display_name": "Python 2",
   "language": "python",
   "name": "python2"
  },
  "language_info": {
   "codemirror_mode": {
    "name": "ipython",
    "version": 2
   },
   "file_extension": ".py",
   "mimetype": "text/x-python",
   "name": "python",
   "nbconvert_exporter": "python",
   "pygments_lexer": "ipython2",
   "version": "2.7.10"
  }
 },
 "nbformat": 4,
 "nbformat_minor": 0
}
